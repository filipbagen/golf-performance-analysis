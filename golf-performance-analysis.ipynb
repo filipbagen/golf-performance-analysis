{
 "cells": [
  {
   "cell_type": "markdown",
   "metadata": {},
   "source": [
    "# Golf Performance Analysis\n",
    "\n",
    "## Description\n",
    "This is the final project within the course Sports Analytics, TDDE64, at Linköping University which analyzes the impact of various golf performance metrics on player outcomes using machine learning techniques and regression analysis. The dataset contains pga tour player data from 2010-2017.\n",
    "\n",
    "#### Can we determine the most important features that affect a golfer's Average Score and predict the Average Score of a golfer based on their performance metrics?\n",
    "\n",
    "# <a id='TOC'>Table of Contents</a>\n",
    "<ol>\n",
    "<li><a href='#section 1'>Understanding the Problem and the Data</a></li>\n",
    "<li><a href='#section_2'>Data cleaning and formatting</a></li>\n",
    "<li><a href='#section_3'>Exploratory Data Analysis</a></li>\n",
    "<li><a href='#section_4'>Baseline Model</a></li>\n",
    "<li><a href='#section_5'>Improved Model</a></li>\n",
    "<li><a href='#section_5'>Conclusion</a></li>\n",
    "</ol>\n",
    "\n",
    "### 1. Data Preprocessing\n",
    "pgatour_cleaned.csv contains 11 columns. Each row indicates a golfer's performance for that year.\n",
    "\n",
    "- **Name**: Name of the golfer\n",
    "- **Rounds**: Number of PGA tour rounds played in that year by that particular player.\n",
    "- **Scoring**: Average score per round played for that year.\n",
    "- **Driving Distance**: Average drive distance is calculated from two holes per round, chosen to negate wind effects. The measurement ends where the drive stops, regardless of fairway placement.\n",
    "- **FWY_%**: The percentage of time a tee shot comes to rest in the fairway (regardless of club)\n",
    "- **GIR_%**: Green in Regulation (GIR) percentage is the frequency a player's ball touches the green after the GIR stroke, which is par minus two (1st stroke on par 3, 2nd on par 4, 3rd on par 5).\n",
    "- **SG_P (Strokes gained putting)**: Strokes gained putting is calculated by comparing a player's putts from a specific distance to a baseline, subtracting the field average, and summing this for all holes. This total is then divided by the number of rounds played.\n",
    "- **SG_TTG (Strokes gained tee to green)**: Average per round of how a player's strokes compare to the field average for the same course and event, excluding strokes gained putting.\n",
    "- **SG_T (Strokes Gained Total)**: The per round average of the number of strokes the player was better or worse than the field average on the same course & event.\n",
    "- **Points**: FedExCup points earned.\n",
    "- **TOP_10**: Yearly count of a player's top 10 finishes\n",
    "- **1ST**: The number of wins the player had in that year.\n",
    "- **Year**: The year the data was collected.\n",
    "- **Money**: The amount of money the player earned in that year.\n",
    "- **Country**: Home country for player."
   ]
  }
 ],
 "metadata": {
  "kernelspec": {
   "display_name": "Python 3",
   "language": "python",
   "name": "python3"
  },
  "language_info": {
   "codemirror_mode": {
    "name": "ipython",
    "version": 3
   },
   "file_extension": ".py",
   "mimetype": "text/x-python",
   "name": "python",
   "nbconvert_exporter": "python",
   "pygments_lexer": "ipython3",
   "version": "3.11.7"
  }
 },
 "nbformat": 4,
 "nbformat_minor": 2
}
